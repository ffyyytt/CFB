{
 "cells": [
  {
   "cell_type": "code",
   "execution_count": 1,
   "metadata": {
    "execution": {
     "iopub.execute_input": "2020-12-15T07:29:12.631533Z",
     "iopub.status.busy": "2020-12-15T07:29:12.630930Z",
     "iopub.status.idle": "2020-12-15T07:29:24.597644Z",
     "shell.execute_reply": "2020-12-15T07:29:24.596933Z"
    },
    "papermill": {
     "duration": 11.980052,
     "end_time": "2020-12-15T07:29:24.597762",
     "exception": false,
     "start_time": "2020-12-15T07:29:12.617710",
     "status": "completed"
    },
    "tags": []
   },
   "outputs": [
    {
     "name": "stdout",
     "output_type": "stream",
     "text": [
      "Collecting m2cgen\r\n",
      "  Downloading m2cgen-0.9.0-py3-none-any.whl (73 kB)\r\n",
      "\u001b[K     |████████████████████████████████| 73 kB 983 kB/s \r\n",
      "\u001b[?25hRequirement already satisfied: numpy in /opt/conda/lib/python3.7/site-packages (from m2cgen) (1.18.5)\r\n",
      "Installing collected packages: m2cgen\r\n",
      "Successfully installed m2cgen-0.9.0\r\n",
      "\u001b[33mWARNING: You are using pip version 20.2.4; however, version 20.3.1 is available.\r\n",
      "You should consider upgrading via the '/opt/conda/bin/python3.7 -m pip install --upgrade pip' command.\u001b[0m\r\n"
     ]
    }
   ],
   "source": [
    "!pip install m2cgen"
   ]
  },
  {
   "cell_type": "code",
   "execution_count": 2,
   "metadata": {
    "execution": {
     "iopub.execute_input": "2020-12-15T07:29:24.633632Z",
     "iopub.status.busy": "2020-12-15T07:29:24.630495Z",
     "iopub.status.idle": "2020-12-15T07:29:32.943081Z",
     "shell.execute_reply": "2020-12-15T07:29:32.943565Z"
    },
    "papermill": {
     "duration": 8.333547,
     "end_time": "2020-12-15T07:29:32.943708",
     "exception": false,
     "start_time": "2020-12-15T07:29:24.610161",
     "status": "completed"
    },
    "tags": []
   },
   "outputs": [
    {
     "name": "stdout",
     "output_type": "stream",
     "text": [
      "Using Tensorflow version: 2.3.1\n"
     ]
    }
   ],
   "source": [
    "import cv2\n",
    "import os\n",
    "from tqdm import *\n",
    "import matplotlib.pyplot as plt\n",
    "import pandas as pd\n",
    "import numpy as np\n",
    "import math\n",
    "import random\n",
    "import urllib\n",
    "import requests\n",
    "import webbrowser\n",
    "import shutil\n",
    "import collections\n",
    "import re\n",
    "import time\n",
    "import json\n",
    "from glob import glob\n",
    "from PIL import Image\n",
    "import pickle\n",
    "\n",
    "import tensorflow as tf\n",
    "from tensorflow.keras.preprocessing.image import ImageDataGenerator\n",
    "from tensorflow.keras.applications import *\n",
    "from tensorflow.keras.layers import *\n",
    "import tensorflow.keras.layers as layers\n",
    "from tensorflow.keras.initializers import *\n",
    "from tensorflow.keras.models import *\n",
    "from tensorflow.keras.optimizers import *\n",
    "from tensorflow.keras.utils import to_categorical\n",
    "from tensorflow.keras.callbacks import *\n",
    "\n",
    "from sklearn.utils import *\n",
    "from sklearn.preprocessing import *\n",
    "from sklearn.model_selection import *\n",
    "from sklearn.metrics import *\n",
    "\n",
    "import keras.backend as K\n",
    "from scipy.stats import *\n",
    "import lightgbm as lgb\n",
    "#import optuna.integration.lightgbm as lgb\n",
    "import xgboost as xgb\n",
    "import m2cgen as m2c\n",
    "\n",
    "print('Using Tensorflow version:', tf.__version__)"
   ]
  },
  {
   "cell_type": "code",
   "execution_count": 3,
   "metadata": {
    "execution": {
     "iopub.execute_input": "2020-12-15T07:29:32.984492Z",
     "iopub.status.busy": "2020-12-15T07:29:32.976769Z",
     "iopub.status.idle": "2020-12-15T07:29:32.996635Z",
     "shell.execute_reply": "2020-12-15T07:29:32.996124Z"
    },
    "papermill": {
     "duration": 0.040232,
     "end_time": "2020-12-15T07:29:32.996743",
     "exception": false,
     "start_time": "2020-12-15T07:29:32.956511",
     "status": "completed"
    },
    "tags": []
   },
   "outputs": [],
   "source": [
    "imgSize = 28\n",
    "BS = 8\n",
    "EPOCHS = 10\n",
    "INIT_LR = 3e-4\n",
    "opt = RMSprop(lr=0.001, rho=0.9, epsilon=1e-08, decay=0.0)"
   ]
  },
  {
   "cell_type": "code",
   "execution_count": 4,
   "metadata": {
    "execution": {
     "iopub.execute_input": "2020-12-15T07:29:33.029050Z",
     "iopub.status.busy": "2020-12-15T07:29:33.028099Z",
     "iopub.status.idle": "2020-12-15T07:29:33.032635Z",
     "shell.execute_reply": "2020-12-15T07:29:33.031764Z"
    },
    "papermill": {
     "duration": 0.024086,
     "end_time": "2020-12-15T07:29:33.032772",
     "exception": false,
     "start_time": "2020-12-15T07:29:33.008686",
     "status": "completed"
    },
    "tags": []
   },
   "outputs": [],
   "source": [
    "trainAug = ImageDataGenerator(rotation_range=5, rescale=1./255, validation_split=0.2)\n",
    "validAug = ImageDataGenerator(rescale=1./255, validation_split=0.3)"
   ]
  },
  {
   "cell_type": "code",
   "execution_count": 5,
   "metadata": {
    "execution": {
     "iopub.execute_input": "2020-12-15T07:29:33.074339Z",
     "iopub.status.busy": "2020-12-15T07:29:33.073235Z",
     "iopub.status.idle": "2020-12-15T07:29:52.240966Z",
     "shell.execute_reply": "2020-12-15T07:29:52.240107Z"
    },
    "papermill": {
     "duration": 19.189767,
     "end_time": "2020-12-15T07:29:52.241098",
     "exception": false,
     "start_time": "2020-12-15T07:29:33.051331",
     "status": "completed"
    },
    "tags": []
   },
   "outputs": [
    {
     "name": "stdout",
     "output_type": "stream",
     "text": [
      "Found 33604 images belonging to 10 classes.\n",
      "Found 12596 images belonging to 10 classes.\n"
     ]
    }
   ],
   "source": [
    "train_generator = trainAug.flow_from_directory('../input/mnistasjpg/trainingSet/trainingSet/',\n",
    "                                               target_size=(imgSize, imgSize),\n",
    "                                               color_mode='grayscale',\n",
    "                                               class_mode='categorical',\n",
    "                                               batch_size=BS, \n",
    "                                               shuffle=False,\n",
    "                                               subset='training')\n",
    "valid_generator = validAug.flow_from_directory('../input/mnistasjpg/trainingSet/trainingSet/',\n",
    "                                               target_size=(imgSize, imgSize),\n",
    "                                               color_mode='grayscale',\n",
    "                                               class_mode='categorical',\n",
    "                                               batch_size=BS, \n",
    "                                               shuffle=False,\n",
    "                                               subset='validation')"
   ]
  },
  {
   "cell_type": "code",
   "execution_count": 6,
   "metadata": {
    "execution": {
     "iopub.execute_input": "2020-12-15T07:29:52.285365Z",
     "iopub.status.busy": "2020-12-15T07:29:52.284704Z",
     "iopub.status.idle": "2020-12-15T07:29:52.353618Z",
     "shell.execute_reply": "2020-12-15T07:29:52.352925Z"
    },
    "papermill": {
     "duration": 0.093018,
     "end_time": "2020-12-15T07:29:52.353795",
     "exception": false,
     "start_time": "2020-12-15T07:29:52.260777",
     "status": "completed"
    },
    "tags": []
   },
   "outputs": [],
   "source": [
    "model = Sequential()\n",
    "model.add(Flatten())"
   ]
  },
  {
   "cell_type": "code",
   "execution_count": 7,
   "metadata": {
    "execution": {
     "iopub.execute_input": "2020-12-15T07:29:52.399590Z",
     "iopub.status.busy": "2020-12-15T07:29:52.398703Z",
     "iopub.status.idle": "2020-12-15T07:32:10.615020Z",
     "shell.execute_reply": "2020-12-15T07:32:10.615715Z"
    },
    "papermill": {
     "duration": 138.242505,
     "end_time": "2020-12-15T07:32:10.615934",
     "exception": false,
     "start_time": "2020-12-15T07:29:52.373429",
     "status": "completed"
    },
    "tags": []
   },
   "outputs": [
    {
     "name": "stdout",
     "output_type": "stream",
     "text": [
      "4201/4201 [==============================] - 108s 26ms/step\n",
      "1575/1575 [==============================] - 29s 19ms/step\n"
     ]
    }
   ],
   "source": [
    "X_train = model.predict(train_generator, verbose = 1)\n",
    "Y_train = train_generator.classes\n",
    "X_valid = model.predict(valid_generator, verbose = 1)\n",
    "Y_valid = valid_generator.classes"
   ]
  },
  {
   "cell_type": "code",
   "execution_count": 8,
   "metadata": {
    "execution": {
     "iopub.execute_input": "2020-12-15T07:32:13.040669Z",
     "iopub.status.busy": "2020-12-15T07:32:13.040041Z",
     "iopub.status.idle": "2020-12-15T07:32:13.043945Z",
     "shell.execute_reply": "2020-12-15T07:32:13.043383Z"
    },
    "papermill": {
     "duration": 1.223484,
     "end_time": "2020-12-15T07:32:13.044059",
     "exception": false,
     "start_time": "2020-12-15T07:32:11.820575",
     "status": "completed"
    },
    "tags": []
   },
   "outputs": [],
   "source": [
    "params = {\n",
    "    'verbose': 0,\n",
    "    'num_class':len(train_generator.class_indices.keys()),\n",
    "    'boosting_type': 'gbdt',\n",
    "    'min_data_in_bin':1,\n",
    "    'max_bin':100,\n",
    "    'num_leaves':5,\n",
    "    'learning_rate':0.1,\n",
    "    \"n_estimators\": 10\n",
    "}\n",
    "model = lgb.LGBMClassifier(**params)"
   ]
  },
  {
   "cell_type": "code",
   "execution_count": 9,
   "metadata": {
    "execution": {
     "iopub.execute_input": "2020-12-15T07:32:14.703211Z",
     "iopub.status.busy": "2020-12-15T07:32:14.702557Z",
     "iopub.status.idle": "2020-12-15T07:32:21.796566Z",
     "shell.execute_reply": "2020-12-15T07:32:21.797315Z"
    },
    "papermill": {
     "duration": 7.895217,
     "end_time": "2020-12-15T07:32:21.797465",
     "exception": false,
     "start_time": "2020-12-15T07:32:13.902248",
     "status": "completed"
    },
    "tags": []
   },
   "outputs": [
    {
     "name": "stdout",
     "output_type": "stream",
     "text": [
      "[1]\tvalid_0's multi_logloss: 2.10718\n",
      "Training until validation scores don't improve for 3 rounds\n",
      "[2]\tvalid_0's multi_logloss: 1.96302\n",
      "[3]\tvalid_0's multi_logloss: 1.84622\n",
      "[4]\tvalid_0's multi_logloss: 1.7327\n",
      "[5]\tvalid_0's multi_logloss: 1.63601\n",
      "[6]\tvalid_0's multi_logloss: 1.55595\n",
      "[7]\tvalid_0's multi_logloss: 1.47853\n",
      "[8]\tvalid_0's multi_logloss: 1.40612\n",
      "[9]\tvalid_0's multi_logloss: 1.34238\n",
      "[10]\tvalid_0's multi_logloss: 1.28498\n",
      "Did not meet early stopping. Best iteration is:\n",
      "[10]\tvalid_0's multi_logloss: 1.28498\n"
     ]
    },
    {
     "data": {
      "text/plain": [
       "LGBMClassifier(max_bin=100, min_data_in_bin=1, n_estimators=10, num_class=10,\n",
       "               num_leaves=5, verbose=0)"
      ]
     },
     "execution_count": 9,
     "metadata": {},
     "output_type": "execute_result"
    }
   ],
   "source": [
    "model.fit(X_train, Y_train,\n",
    "                eval_set=[(X_valid, Y_valid)],\n",
    "                early_stopping_rounds=3)"
   ]
  },
  {
   "cell_type": "code",
   "execution_count": 10,
   "metadata": {
    "execution": {
     "iopub.execute_input": "2020-12-15T07:32:23.778128Z",
     "iopub.status.busy": "2020-12-15T07:32:23.777167Z",
     "iopub.status.idle": "2020-12-15T07:32:23.843472Z",
     "shell.execute_reply": "2020-12-15T07:32:23.844224Z"
    },
    "papermill": {
     "duration": 1.189481,
     "end_time": "2020-12-15T07:32:23.844376",
     "exception": false,
     "start_time": "2020-12-15T07:32:22.654895",
     "status": "completed"
    },
    "tags": []
   },
   "outputs": [
    {
     "data": {
      "text/plain": [
       "0.7912829469672912"
      ]
     },
     "execution_count": 10,
     "metadata": {},
     "output_type": "execute_result"
    }
   ],
   "source": [
    "np.mean(model.predict(X_valid)==Y_valid)"
   ]
  },
  {
   "cell_type": "code",
   "execution_count": 11,
   "metadata": {
    "execution": {
     "iopub.execute_input": "2020-12-15T07:32:25.517616Z",
     "iopub.status.busy": "2020-12-15T07:32:25.517012Z",
     "iopub.status.idle": "2020-12-15T07:32:25.691385Z",
     "shell.execute_reply": "2020-12-15T07:32:25.691936Z"
    },
    "papermill": {
     "duration": 0.99331,
     "end_time": "2020-12-15T07:32:25.692073",
     "exception": false,
     "start_time": "2020-12-15T07:32:24.698763",
     "status": "completed"
    },
    "tags": []
   },
   "outputs": [
    {
     "name": "stdout",
     "output_type": "stream",
     "text": [
      "CPU times: user 168 ms, sys: 0 ns, total: 168 ms\n",
      "Wall time: 168 ms\n"
     ]
    },
    {
     "data": {
      "text/plain": [
       "67346"
      ]
     },
     "execution_count": 11,
     "metadata": {},
     "output_type": "execute_result"
    }
   ],
   "source": [
    "%%time\n",
    "code = m2c.export_to_java(model)\n",
    "len(code)"
   ]
  },
  {
   "cell_type": "code",
   "execution_count": 12,
   "metadata": {
    "execution": {
     "iopub.execute_input": "2020-12-15T07:32:27.299244Z",
     "iopub.status.busy": "2020-12-15T07:32:27.298486Z",
     "iopub.status.idle": "2020-12-15T07:32:27.302022Z",
     "shell.execute_reply": "2020-12-15T07:32:27.302497Z"
    },
    "papermill": {
     "duration": 0.811864,
     "end_time": "2020-12-15T07:32:27.302640",
     "exception": false,
     "start_time": "2020-12-15T07:32:26.490776",
     "status": "completed"
    },
    "tags": []
   },
   "outputs": [],
   "source": [
    "with open('model.java', 'w') as f:\n",
    "    f.write(code)"
   ]
  }
 ],
 "metadata": {
  "kernelspec": {
   "display_name": "Python 3",
   "language": "python",
   "name": "python3"
  },
  "language_info": {
   "codemirror_mode": {
    "name": "ipython",
    "version": 3
   },
   "file_extension": ".py",
   "mimetype": "text/x-python",
   "name": "python",
   "nbconvert_exporter": "python",
   "pygments_lexer": "ipython3",
   "version": "3.7.6"
  },
  "papermill": {
   "duration": 200.761628,
   "end_time": "2020-12-15T07:32:28.213942",
   "environment_variables": {},
   "exception": null,
   "input_path": "__notebook__.ipynb",
   "output_path": "__notebook__.ipynb",
   "parameters": {},
   "start_time": "2020-12-15T07:29:07.452314",
   "version": "2.1.0"
  }
 },
 "nbformat": 4,
 "nbformat_minor": 4
}
