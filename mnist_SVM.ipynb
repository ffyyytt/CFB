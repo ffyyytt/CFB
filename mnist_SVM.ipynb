{
 "cells": [
  {
   "cell_type": "code",
   "execution_count": 1,
   "metadata": {
    "execution": {
     "iopub.execute_input": "2020-12-21T13:31:44.926317Z",
     "iopub.status.busy": "2020-12-21T13:31:44.925663Z",
     "iopub.status.idle": "2020-12-21T13:32:12.806174Z",
     "shell.execute_reply": "2020-12-21T13:32:12.805493Z"
    },
    "papermill": {
     "duration": 27.892667,
     "end_time": "2020-12-21T13:32:12.806311",
     "exception": false,
     "start_time": "2020-12-21T13:31:44.913644",
     "status": "completed"
    },
    "tags": []
   },
   "outputs": [
    {
     "name": "stdout",
     "output_type": "stream",
     "text": [
      "Collecting m2cgen\r\n",
      "  Downloading m2cgen-0.9.0-py3-none-any.whl (73 kB)\r\n",
      "\u001b[K     |████████████████████████████████| 73 kB 614 kB/s \r\n",
      "\u001b[?25hRequirement already satisfied: numpy in /opt/conda/lib/python3.7/site-packages (from m2cgen) (1.18.5)\r\n",
      "Installing collected packages: m2cgen\r\n",
      "Successfully installed m2cgen-0.9.0\r\n",
      "\u001b[33mWARNING: You are using pip version 20.2.4; however, version 20.3.3 is available.\r\n",
      "You should consider upgrading via the '/opt/conda/bin/python3.7 -m pip install --upgrade pip' command.\u001b[0m\r\n",
      "Collecting skl2onnx\r\n",
      "  Downloading skl2onnx-1.7.0-py2.py3-none-any.whl (191 kB)\r\n",
      "\u001b[K     |████████████████████████████████| 191 kB 1.3 MB/s \r\n",
      "\u001b[?25hRequirement already satisfied: scipy>=1.0 in /opt/conda/lib/python3.7/site-packages (from skl2onnx) (1.4.1)\r\n",
      "Collecting onnxconverter-common>=1.5.1\r\n",
      "  Downloading onnxconverter_common-1.7.0-py2.py3-none-any.whl (64 kB)\r\n",
      "\u001b[K     |████████████████████████████████| 64 kB 1.8 MB/s \r\n",
      "\u001b[?25hRequirement already satisfied: protobuf in /opt/conda/lib/python3.7/site-packages (from skl2onnx) (3.14.0)\r\n",
      "Requirement already satisfied: six in /opt/conda/lib/python3.7/site-packages (from skl2onnx) (1.14.0)\r\n",
      "Requirement already satisfied: scikit-learn>=0.19 in /opt/conda/lib/python3.7/site-packages (from skl2onnx) (0.23.2)\r\n",
      "Requirement already satisfied: onnx>=1.2.1 in /opt/conda/lib/python3.7/site-packages (from skl2onnx) (1.8.0)\r\n",
      "Requirement already satisfied: numpy>=1.15 in /opt/conda/lib/python3.7/site-packages (from skl2onnx) (1.18.5)\r\n",
      "Requirement already satisfied: threadpoolctl>=2.0.0 in /opt/conda/lib/python3.7/site-packages (from scikit-learn>=0.19->skl2onnx) (2.1.0)\r\n",
      "Requirement already satisfied: joblib>=0.11 in /opt/conda/lib/python3.7/site-packages (from scikit-learn>=0.19->skl2onnx) (0.14.1)\r\n",
      "Requirement already satisfied: typing-extensions>=3.6.2.1 in /opt/conda/lib/python3.7/site-packages (from onnx>=1.2.1->skl2onnx) (3.7.4.1)\r\n",
      "Installing collected packages: onnxconverter-common, skl2onnx\r\n",
      "Successfully installed onnxconverter-common-1.7.0 skl2onnx-1.7.0\r\n",
      "\u001b[33mWARNING: You are using pip version 20.2.4; however, version 20.3.3 is available.\r\n",
      "You should consider upgrading via the '/opt/conda/bin/python3.7 -m pip install --upgrade pip' command.\u001b[0m\r\n",
      "Collecting sklearn-porter\r\n",
      "  Downloading sklearn_porter-0.7.4-py3-none-any.whl (144 kB)\r\n",
      "\u001b[K     |████████████████████████████████| 144 kB 1.3 MB/s \r\n",
      "\u001b[?25hRequirement already satisfied: six in /opt/conda/lib/python3.7/site-packages (from sklearn-porter) (1.14.0)\r\n",
      "Requirement already satisfied: scikit-learn>=0.14.1 in /opt/conda/lib/python3.7/site-packages (from sklearn-porter) (0.23.2)\r\n",
      "Requirement already satisfied: numpy>=1.13.3 in /opt/conda/lib/python3.7/site-packages (from scikit-learn>=0.14.1->sklearn-porter) (1.18.5)\r\n",
      "Requirement already satisfied: scipy>=0.19.1 in /opt/conda/lib/python3.7/site-packages (from scikit-learn>=0.14.1->sklearn-porter) (1.4.1)\r\n",
      "Requirement already satisfied: threadpoolctl>=2.0.0 in /opt/conda/lib/python3.7/site-packages (from scikit-learn>=0.14.1->sklearn-porter) (2.1.0)\r\n",
      "Requirement already satisfied: joblib>=0.11 in /opt/conda/lib/python3.7/site-packages (from scikit-learn>=0.14.1->sklearn-porter) (0.14.1)\r\n",
      "Installing collected packages: sklearn-porter\r\n",
      "Successfully installed sklearn-porter-0.7.4\r\n",
      "\u001b[33mWARNING: You are using pip version 20.2.4; however, version 20.3.3 is available.\r\n",
      "You should consider upgrading via the '/opt/conda/bin/python3.7 -m pip install --upgrade pip' command.\u001b[0m\r\n"
     ]
    }
   ],
   "source": [
    "!pip install m2cgen\n",
    "!pip install skl2onnx\n",
    "!pip install sklearn-porter"
   ]
  },
  {
   "cell_type": "code",
   "execution_count": 2,
   "metadata": {
    "execution": {
     "iopub.execute_input": "2020-12-21T13:32:12.859833Z",
     "iopub.status.busy": "2020-12-21T13:32:12.859087Z",
     "iopub.status.idle": "2020-12-21T13:32:21.180078Z",
     "shell.execute_reply": "2020-12-21T13:32:21.180696Z"
    },
    "papermill": {
     "duration": 8.354483,
     "end_time": "2020-12-21T13:32:21.180848",
     "exception": false,
     "start_time": "2020-12-21T13:32:12.826365",
     "status": "completed"
    },
    "tags": []
   },
   "outputs": [
    {
     "name": "stdout",
     "output_type": "stream",
     "text": [
      "Using Tensorflow version: 2.3.1\n"
     ]
    },
    {
     "name": "stderr",
     "output_type": "stream",
     "text": [
      "/opt/conda/lib/python3.7/site-packages/sklearn/utils/deprecation.py:143: FutureWarning: The sklearn.tree.tree module is  deprecated in version 0.22 and will be removed in version 0.24. The corresponding classes / functions should instead be imported from sklearn.tree. Anything that cannot be imported from sklearn.tree is now part of the private API.\n",
      "  warnings.warn(message, FutureWarning)\n",
      "/opt/conda/lib/python3.7/site-packages/sklearn/utils/deprecation.py:143: FutureWarning: The sklearn.ensemble.weight_boosting module is  deprecated in version 0.22 and will be removed in version 0.24. The corresponding classes / functions should instead be imported from sklearn.ensemble. Anything that cannot be imported from sklearn.ensemble is now part of the private API.\n",
      "  warnings.warn(message, FutureWarning)\n",
      "/opt/conda/lib/python3.7/site-packages/sklearn/utils/deprecation.py:143: FutureWarning: The sklearn.ensemble.forest module is  deprecated in version 0.22 and will be removed in version 0.24. The corresponding classes / functions should instead be imported from sklearn.ensemble. Anything that cannot be imported from sklearn.ensemble is now part of the private API.\n",
      "  warnings.warn(message, FutureWarning)\n",
      "/opt/conda/lib/python3.7/site-packages/sklearn/utils/deprecation.py:143: FutureWarning: The sklearn.svm.classes module is  deprecated in version 0.22 and will be removed in version 0.24. The corresponding classes / functions should instead be imported from sklearn.svm. Anything that cannot be imported from sklearn.svm is now part of the private API.\n",
      "  warnings.warn(message, FutureWarning)\n",
      "/opt/conda/lib/python3.7/site-packages/sklearn/utils/deprecation.py:143: FutureWarning: The sklearn.neighbors.classification module is  deprecated in version 0.22 and will be removed in version 0.24. The corresponding classes / functions should instead be imported from sklearn.neighbors. Anything that cannot be imported from sklearn.neighbors is now part of the private API.\n",
      "  warnings.warn(message, FutureWarning)\n"
     ]
    }
   ],
   "source": [
    "import cv2\n",
    "import os\n",
    "from tqdm import *\n",
    "import matplotlib.pyplot as plt\n",
    "import pandas as pd\n",
    "import numpy as np\n",
    "import math\n",
    "import random\n",
    "import urllib\n",
    "import requests\n",
    "import webbrowser\n",
    "import shutil\n",
    "import collections\n",
    "import re\n",
    "import time\n",
    "import json\n",
    "from glob import glob\n",
    "from PIL import Image\n",
    "import pickle\n",
    "\n",
    "import tensorflow as tf\n",
    "from tensorflow.keras.preprocessing.image import ImageDataGenerator\n",
    "from tensorflow.keras.applications import *\n",
    "from tensorflow.keras.layers import *\n",
    "import tensorflow.keras.layers as layers\n",
    "from tensorflow.keras.initializers import *\n",
    "from tensorflow.keras.models import *\n",
    "from tensorflow.keras.optimizers import *\n",
    "from tensorflow.keras.utils import to_categorical\n",
    "from tensorflow.keras.callbacks import *\n",
    "\n",
    "from sklearn.utils import *\n",
    "from sklearn.preprocessing import *\n",
    "from sklearn.model_selection import *\n",
    "from sklearn.metrics import *\n",
    "from sklearn import svm\n",
    "from sklearn.neighbors import KNeighborsClassifier\n",
    "\n",
    "import keras.backend as K\n",
    "from scipy.stats import *\n",
    "import lightgbm as lgb\n",
    "#import optuna.integration.lightgbm as lgb\n",
    "import xgboost as xgb\n",
    "\n",
    "import m2cgen as m2c\n",
    "from sklearn_porter import Porter\n",
    "\n",
    "print('Using Tensorflow version:', tf.__version__)"
   ]
  },
  {
   "cell_type": "code",
   "execution_count": 3,
   "metadata": {
    "execution": {
     "iopub.execute_input": "2020-12-21T13:32:21.233670Z",
     "iopub.status.busy": "2020-12-21T13:32:21.232908Z",
     "iopub.status.idle": "2020-12-21T13:32:21.243250Z",
     "shell.execute_reply": "2020-12-21T13:32:21.243824Z"
    },
    "papermill": {
     "duration": 0.042358,
     "end_time": "2020-12-21T13:32:21.243981",
     "exception": false,
     "start_time": "2020-12-21T13:32:21.201623",
     "status": "completed"
    },
    "tags": []
   },
   "outputs": [],
   "source": [
    "imgSize = 28\n",
    "BS = 1024\n",
    "EPOCHS = 10\n",
    "INIT_LR = 3e-4\n",
    "opt = RMSprop(lr=0.001, rho=0.9, epsilon=1e-08, decay=0.0)"
   ]
  },
  {
   "cell_type": "code",
   "execution_count": 4,
   "metadata": {
    "execution": {
     "iopub.execute_input": "2020-12-21T13:32:21.289151Z",
     "iopub.status.busy": "2020-12-21T13:32:21.288467Z",
     "iopub.status.idle": "2020-12-21T13:32:21.293683Z",
     "shell.execute_reply": "2020-12-21T13:32:21.294204Z"
    },
    "papermill": {
     "duration": 0.029728,
     "end_time": "2020-12-21T13:32:21.294363",
     "exception": false,
     "start_time": "2020-12-21T13:32:21.264635",
     "status": "completed"
    },
    "tags": []
   },
   "outputs": [],
   "source": [
    "trainAug = ImageDataGenerator(rotation_range=5, rescale=1./255, validation_split=0.2)\n",
    "validAug = ImageDataGenerator(rescale=1./255, validation_split=0.3)"
   ]
  },
  {
   "cell_type": "code",
   "execution_count": 5,
   "metadata": {
    "execution": {
     "iopub.execute_input": "2020-12-21T13:32:21.340406Z",
     "iopub.status.busy": "2020-12-21T13:32:21.339662Z",
     "iopub.status.idle": "2020-12-21T13:32:55.535195Z",
     "shell.execute_reply": "2020-12-21T13:32:55.534617Z"
    },
    "papermill": {
     "duration": 34.220031,
     "end_time": "2020-12-21T13:32:55.535327",
     "exception": false,
     "start_time": "2020-12-21T13:32:21.315296",
     "status": "completed"
    },
    "tags": []
   },
   "outputs": [
    {
     "name": "stdout",
     "output_type": "stream",
     "text": [
      "Found 33604 images belonging to 10 classes.\n",
      "Found 12596 images belonging to 10 classes.\n"
     ]
    }
   ],
   "source": [
    "train_generator = trainAug.flow_from_directory('../input/mnistasjpg/trainingSet/trainingSet/',\n",
    "                                               target_size=(imgSize, imgSize),\n",
    "                                               color_mode='grayscale',\n",
    "                                               class_mode='categorical',\n",
    "                                               batch_size=BS, \n",
    "                                               shuffle=False,\n",
    "                                               subset='training')\n",
    "valid_generator = validAug.flow_from_directory('../input/mnistasjpg/trainingSet/trainingSet/',\n",
    "                                               target_size=(imgSize, imgSize),\n",
    "                                               color_mode='grayscale',\n",
    "                                               class_mode='categorical',\n",
    "                                               batch_size=BS, \n",
    "                                               shuffle=False,\n",
    "                                               subset='validation')"
   ]
  },
  {
   "cell_type": "code",
   "execution_count": 6,
   "metadata": {
    "execution": {
     "iopub.execute_input": "2020-12-21T13:32:55.583464Z",
     "iopub.status.busy": "2020-12-21T13:32:55.582735Z",
     "iopub.status.idle": "2020-12-21T13:32:55.653326Z",
     "shell.execute_reply": "2020-12-21T13:32:55.654002Z"
    },
    "papermill": {
     "duration": 0.097689,
     "end_time": "2020-12-21T13:32:55.654187",
     "exception": false,
     "start_time": "2020-12-21T13:32:55.556498",
     "status": "completed"
    },
    "tags": []
   },
   "outputs": [],
   "source": [
    "model = Sequential()\n",
    "model.add(Flatten())"
   ]
  },
  {
   "cell_type": "code",
   "execution_count": 7,
   "metadata": {
    "execution": {
     "iopub.execute_input": "2020-12-21T13:32:55.701298Z",
     "iopub.status.busy": "2020-12-21T13:32:55.700572Z",
     "iopub.status.idle": "2020-12-21T13:36:44.147670Z",
     "shell.execute_reply": "2020-12-21T13:36:44.147056Z"
    },
    "papermill": {
     "duration": 228.471623,
     "end_time": "2020-12-21T13:36:44.147800",
     "exception": false,
     "start_time": "2020-12-21T13:32:55.676177",
     "status": "completed"
    },
    "tags": []
   },
   "outputs": [
    {
     "name": "stdout",
     "output_type": "stream",
     "text": [
      "33/33 [==============================] - 174s 5s/step\n",
      "13/13 [==============================] - 42s 3s/step\n"
     ]
    }
   ],
   "source": [
    "X_train = model.predict(train_generator, verbose = 1)\n",
    "Y_train = train_generator.classes\n",
    "X_valid = model.predict(valid_generator, verbose = 1)\n",
    "Y_valid = valid_generator.classes"
   ]
  },
  {
   "cell_type": "code",
   "execution_count": 8,
   "metadata": {
    "execution": {
     "iopub.execute_input": "2020-12-21T13:36:44.229837Z",
     "iopub.status.busy": "2020-12-21T13:36:44.229087Z",
     "iopub.status.idle": "2020-12-21T13:36:44.252790Z",
     "shell.execute_reply": "2020-12-21T13:36:44.252022Z"
    },
    "papermill": {
     "duration": 0.067378,
     "end_time": "2020-12-21T13:36:44.252915",
     "exception": false,
     "start_time": "2020-12-21T13:36:44.185537",
     "status": "completed"
    },
    "tags": []
   },
   "outputs": [],
   "source": [
    "from sklearn.linear_model import LogisticRegression\n",
    "from sklearn.discriminant_analysis import LinearDiscriminantAnalysis\n",
    "from sklearn.neighbors import KNeighborsClassifier\n",
    "from sklearn.naive_bayes import GaussianNB\n",
    "from sklearn.tree import DecisionTreeClassifier\n",
    "from sklearn.svm import SVC\n",
    "\n",
    "model = SVC()"
   ]
  },
  {
   "cell_type": "code",
   "execution_count": 9,
   "metadata": {
    "execution": {
     "iopub.execute_input": "2020-12-21T13:36:44.335639Z",
     "iopub.status.busy": "2020-12-21T13:36:44.334826Z",
     "iopub.status.idle": "2020-12-21T13:40:03.659460Z",
     "shell.execute_reply": "2020-12-21T13:40:03.659991Z"
    },
    "papermill": {
     "duration": 199.369474,
     "end_time": "2020-12-21T13:40:03.660133",
     "exception": false,
     "start_time": "2020-12-21T13:36:44.290659",
     "status": "completed"
    },
    "tags": []
   },
   "outputs": [
    {
     "data": {
      "text/plain": [
       "SVC()"
      ]
     },
     "execution_count": 9,
     "metadata": {},
     "output_type": "execute_result"
    }
   ],
   "source": [
    "model.fit(X_train, Y_train)"
   ]
  },
  {
   "cell_type": "code",
   "execution_count": 10,
   "metadata": {
    "execution": {
     "iopub.execute_input": "2020-12-21T13:40:03.741729Z",
     "iopub.status.busy": "2020-12-21T13:40:03.741005Z",
     "iopub.status.idle": "2020-12-21T13:42:22.327091Z",
     "shell.execute_reply": "2020-12-21T13:42:22.327665Z"
    },
    "papermill": {
     "duration": 138.629602,
     "end_time": "2020-12-21T13:42:22.327825",
     "exception": false,
     "start_time": "2020-12-21T13:40:03.698223",
     "status": "completed"
    },
    "tags": []
   },
   "outputs": [
    {
     "data": {
      "text/plain": [
       "0.9810257224515719"
      ]
     },
     "execution_count": 10,
     "metadata": {},
     "output_type": "execute_result"
    }
   ],
   "source": [
    "np.mean(model.predict(X_valid)==Y_valid)"
   ]
  },
  {
   "cell_type": "code",
   "execution_count": 11,
   "metadata": {
    "execution": {
     "iopub.execute_input": "2020-12-21T13:42:22.409887Z",
     "iopub.status.busy": "2020-12-21T13:42:22.408843Z",
     "iopub.status.idle": "2020-12-21T13:42:32.610653Z",
     "shell.execute_reply": "2020-12-21T13:42:32.611246Z"
    },
    "papermill": {
     "duration": 10.244604,
     "end_time": "2020-12-21T13:42:32.611399",
     "exception": false,
     "start_time": "2020-12-21T13:42:22.366795",
     "status": "completed"
    },
    "tags": []
   },
   "outputs": [],
   "source": [
    "from skl2onnx import convert_sklearn\n",
    "from skl2onnx.common.data_types import FloatTensorType\n",
    "initial_type = [('float_input', FloatTensorType([None, 4]))]\n",
    "onx = convert_sklearn(model, initial_types=initial_type)\n",
    "with open(\"rf_iris.onnx\", \"wb\") as f:\n",
    "    f.write(onx.SerializeToString())"
   ]
  }
 ],
 "metadata": {
  "kernelspec": {
   "display_name": "Python 3",
   "language": "python",
   "name": "python3"
  },
  "language_info": {
   "codemirror_mode": {
    "name": "ipython",
    "version": 3
   },
   "file_extension": ".py",
   "mimetype": "text/x-python",
   "name": "python",
   "nbconvert_exporter": "python",
   "pygments_lexer": "ipython3",
   "version": "3.7.6"
  },
  "papermill": {
   "duration": 652.639263,
   "end_time": "2020-12-21T13:42:32.759846",
   "environment_variables": {},
   "exception": null,
   "input_path": "__notebook__.ipynb",
   "output_path": "__notebook__.ipynb",
   "parameters": {},
   "start_time": "2020-12-21T13:31:40.120583",
   "version": "2.1.0"
  }
 },
 "nbformat": 4,
 "nbformat_minor": 4
}
